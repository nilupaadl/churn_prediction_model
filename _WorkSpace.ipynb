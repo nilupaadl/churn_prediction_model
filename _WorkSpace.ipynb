{
 "cells": [
  {
   "cell_type": "markdown",
   "metadata": {},
   "source": [
    "# Decison Trees"
   ]
  },
  {
   "cell_type": "code",
   "execution_count": 20,
   "metadata": {},
   "outputs": [],
   "source": [
    "def predict(X_train, y_train, X_test, y_test):\n",
    "    y_train_pred = clf.predict(X_train)\n",
    "    print(\"Training accuracy on all features: {:.3f}\".format(acc(y_train, y_train_pred)))\n",
    "\n",
    "    y_test_pred = clf.predict(X_test)\n",
    "    print(\"Testing accuracy on all features: {:.3f}\".format(acc(y_test, y_test_pred)))\n",
    "\n",
    "def cross_val_res(clf, X, y, fold):\n",
    "    scores = cross_val_score(clf, X.values, y.values, cv=fold)\n",
    "    print(scores)\n",
    "    print(scores.mean())"
   ]
  },
  {
   "cell_type": "code",
   "execution_count": 56,
   "metadata": {},
   "outputs": [],
   "source": [
    "import numpy as np\n",
    "import pandas as pd\n",
    "from sklearn import tree\n",
    "\n",
    "#input_file = \"data_3824.csv\"\n",
    "input_file = \"data.csv\"\n",
    "data = pd.read_csv(input_file, header = 0)"
   ]
  },
  {
   "cell_type": "code",
   "execution_count": 6,
   "metadata": {},
   "outputs": [
    {
     "data": {
      "text/html": [
       "<div>\n",
       "<style scoped>\n",
       "    .dataframe tbody tr th:only-of-type {\n",
       "        vertical-align: middle;\n",
       "    }\n",
       "\n",
       "    .dataframe tbody tr th {\n",
       "        vertical-align: top;\n",
       "    }\n",
       "\n",
       "    .dataframe thead th {\n",
       "        text-align: right;\n",
       "    }\n",
       "</style>\n",
       "<table border=\"1\" class=\"dataframe\">\n",
       "  <thead>\n",
       "    <tr style=\"text-align: right;\">\n",
       "      <th></th>\n",
       "      <th>user_id</th>\n",
       "      <th>days_last_order</th>\n",
       "      <th>total_orders</th>\n",
       "      <th>total_value</th>\n",
       "      <th>unique_days_visited</th>\n",
       "      <th>total_sessions</th>\n",
       "      <th>avg_duration_btw_login</th>\n",
       "      <th>avg_session_time</th>\n",
       "      <th>avg_page_visits</th>\n",
       "      <th>label</th>\n",
       "    </tr>\n",
       "  </thead>\n",
       "  <tbody>\n",
       "    <tr>\n",
       "      <th>0</th>\n",
       "      <td>151</td>\n",
       "      <td>5</td>\n",
       "      <td>34</td>\n",
       "      <td>152975</td>\n",
       "      <td>130</td>\n",
       "      <td>404</td>\n",
       "      <td>1.39</td>\n",
       "      <td>437.01</td>\n",
       "      <td>27.42</td>\n",
       "      <td>0</td>\n",
       "    </tr>\n",
       "    <tr>\n",
       "      <th>1</th>\n",
       "      <td>332</td>\n",
       "      <td>7</td>\n",
       "      <td>3</td>\n",
       "      <td>2959</td>\n",
       "      <td>17</td>\n",
       "      <td>24</td>\n",
       "      <td>4.71</td>\n",
       "      <td>767.08</td>\n",
       "      <td>31.58</td>\n",
       "      <td>1</td>\n",
       "    </tr>\n",
       "    <tr>\n",
       "      <th>2</th>\n",
       "      <td>332</td>\n",
       "      <td>14</td>\n",
       "      <td>13</td>\n",
       "      <td>8791</td>\n",
       "      <td>58</td>\n",
       "      <td>101</td>\n",
       "      <td>1.88</td>\n",
       "      <td>274.68</td>\n",
       "      <td>21.73</td>\n",
       "      <td>0</td>\n",
       "    </tr>\n",
       "    <tr>\n",
       "      <th>3</th>\n",
       "      <td>443</td>\n",
       "      <td>22</td>\n",
       "      <td>15</td>\n",
       "      <td>7873</td>\n",
       "      <td>94</td>\n",
       "      <td>177</td>\n",
       "      <td>1.74</td>\n",
       "      <td>200.95</td>\n",
       "      <td>20.94</td>\n",
       "      <td>0</td>\n",
       "    </tr>\n",
       "    <tr>\n",
       "      <th>4</th>\n",
       "      <td>444</td>\n",
       "      <td>19</td>\n",
       "      <td>13</td>\n",
       "      <td>9875</td>\n",
       "      <td>101</td>\n",
       "      <td>198</td>\n",
       "      <td>1.82</td>\n",
       "      <td>221.55</td>\n",
       "      <td>18.62</td>\n",
       "      <td>0</td>\n",
       "    </tr>\n",
       "  </tbody>\n",
       "</table>\n",
       "</div>"
      ],
      "text/plain": [
       "   user_id  days_last_order  total_orders  total_value  unique_days_visited  \\\n",
       "0      151                5            34       152975                  130   \n",
       "1      332                7             3         2959                   17   \n",
       "2      332               14            13         8791                   58   \n",
       "3      443               22            15         7873                   94   \n",
       "4      444               19            13         9875                  101   \n",
       "\n",
       "   total_sessions  avg_duration_btw_login  avg_session_time  avg_page_visits  \\\n",
       "0             404                    1.39            437.01            27.42   \n",
       "1              24                    4.71            767.08            31.58   \n",
       "2             101                    1.88            274.68            21.73   \n",
       "3             177                    1.74            200.95            20.94   \n",
       "4             198                    1.82            221.55            18.62   \n",
       "\n",
       "   label  \n",
       "0      0  \n",
       "1      1  \n",
       "2      0  \n",
       "3      0  \n",
       "4      0  "
      ]
     },
     "execution_count": 6,
     "metadata": {},
     "output_type": "execute_result"
    }
   ],
   "source": [
    "data.head()"
   ]
  },
  {
   "cell_type": "code",
   "execution_count": 57,
   "metadata": {},
   "outputs": [
    {
     "data": {
      "text/html": [
       "<div>\n",
       "<style scoped>\n",
       "    .dataframe tbody tr th:only-of-type {\n",
       "        vertical-align: middle;\n",
       "    }\n",
       "\n",
       "    .dataframe tbody tr th {\n",
       "        vertical-align: top;\n",
       "    }\n",
       "\n",
       "    .dataframe thead th {\n",
       "        text-align: right;\n",
       "    }\n",
       "</style>\n",
       "<table border=\"1\" class=\"dataframe\">\n",
       "  <thead>\n",
       "    <tr style=\"text-align: right;\">\n",
       "      <th></th>\n",
       "      <th>days_last_order</th>\n",
       "      <th>total_orders</th>\n",
       "      <th>total_value</th>\n",
       "      <th>unique_days_visited</th>\n",
       "      <th>total_sessions</th>\n",
       "      <th>avg_duration_btw_login</th>\n",
       "      <th>avg_session_time</th>\n",
       "      <th>avg_page_visits</th>\n",
       "      <th>label</th>\n",
       "    </tr>\n",
       "  </thead>\n",
       "  <tbody>\n",
       "    <tr>\n",
       "      <th>0</th>\n",
       "      <td>5</td>\n",
       "      <td>34</td>\n",
       "      <td>152975</td>\n",
       "      <td>130</td>\n",
       "      <td>404</td>\n",
       "      <td>1.39</td>\n",
       "      <td>437.01</td>\n",
       "      <td>27.42</td>\n",
       "      <td>0</td>\n",
       "    </tr>\n",
       "    <tr>\n",
       "      <th>1</th>\n",
       "      <td>7</td>\n",
       "      <td>3</td>\n",
       "      <td>2959</td>\n",
       "      <td>17</td>\n",
       "      <td>24</td>\n",
       "      <td>4.71</td>\n",
       "      <td>767.08</td>\n",
       "      <td>31.58</td>\n",
       "      <td>1</td>\n",
       "    </tr>\n",
       "    <tr>\n",
       "      <th>2</th>\n",
       "      <td>14</td>\n",
       "      <td>13</td>\n",
       "      <td>8791</td>\n",
       "      <td>58</td>\n",
       "      <td>101</td>\n",
       "      <td>1.88</td>\n",
       "      <td>274.68</td>\n",
       "      <td>21.73</td>\n",
       "      <td>0</td>\n",
       "    </tr>\n",
       "    <tr>\n",
       "      <th>3</th>\n",
       "      <td>22</td>\n",
       "      <td>15</td>\n",
       "      <td>7873</td>\n",
       "      <td>94</td>\n",
       "      <td>177</td>\n",
       "      <td>1.74</td>\n",
       "      <td>200.95</td>\n",
       "      <td>20.94</td>\n",
       "      <td>0</td>\n",
       "    </tr>\n",
       "    <tr>\n",
       "      <th>4</th>\n",
       "      <td>19</td>\n",
       "      <td>13</td>\n",
       "      <td>9875</td>\n",
       "      <td>101</td>\n",
       "      <td>198</td>\n",
       "      <td>1.82</td>\n",
       "      <td>221.55</td>\n",
       "      <td>18.62</td>\n",
       "      <td>0</td>\n",
       "    </tr>\n",
       "  </tbody>\n",
       "</table>\n",
       "</div>"
      ],
      "text/plain": [
       "   days_last_order  total_orders  total_value  unique_days_visited  \\\n",
       "0                5            34       152975                  130   \n",
       "1                7             3         2959                   17   \n",
       "2               14            13         8791                   58   \n",
       "3               22            15         7873                   94   \n",
       "4               19            13         9875                  101   \n",
       "\n",
       "   total_sessions  avg_duration_btw_login  avg_session_time  avg_page_visits  \\\n",
       "0             404                    1.39            437.01            27.42   \n",
       "1              24                    4.71            767.08            31.58   \n",
       "2             101                    1.88            274.68            21.73   \n",
       "3             177                    1.74            200.95            20.94   \n",
       "4             198                    1.82            221.55            18.62   \n",
       "\n",
       "   label  \n",
       "0      0  \n",
       "1      1  \n",
       "2      0  \n",
       "3      0  \n",
       "4      0  "
      ]
     },
     "execution_count": 57,
     "metadata": {},
     "output_type": "execute_result"
    }
   ],
   "source": [
    "df = data[data.columns[1:]]\n",
    "df = df[df['total_orders']<100]\n",
    "df.head()"
   ]
  },
  {
   "cell_type": "code",
   "execution_count": 58,
   "metadata": {},
   "outputs": [
    {
     "data": {
      "text/plain": [
       "['days_last_order',\n",
       " 'total_orders',\n",
       " 'total_value',\n",
       " 'unique_days_visited',\n",
       " 'total_sessions',\n",
       " 'avg_duration_btw_login',\n",
       " 'avg_session_time',\n",
       " 'avg_page_visits']"
      ]
     },
     "execution_count": 58,
     "metadata": {},
     "output_type": "execute_result"
    }
   ],
   "source": [
    "features = list(df.columns[:-1])\n",
    "features"
   ]
  },
  {
   "cell_type": "code",
   "execution_count": 59,
   "metadata": {},
   "outputs": [],
   "source": [
    "y = df[\"label\"]\n",
    "X = df[features]"
   ]
  },
  {
   "cell_type": "code",
   "execution_count": 48,
   "metadata": {},
   "outputs": [
    {
     "data": {
      "text/plain": [
       "0       1\n",
       "1       0\n",
       "2       0\n",
       "3       0\n",
       "4       0\n",
       "       ..\n",
       "3819    0\n",
       "3820    1\n",
       "3821    0\n",
       "3822    1\n",
       "3823    0\n",
       "Name: label, Length: 3824, dtype: int64"
      ]
     },
     "execution_count": 48,
     "metadata": {},
     "output_type": "execute_result"
    }
   ],
   "source": [
    "y"
   ]
  },
  {
   "cell_type": "code",
   "execution_count": 60,
   "metadata": {},
   "outputs": [
    {
     "name": "stdout",
     "output_type": "stream",
     "text": [
      "Training dataset shape: (3591, 8), (3591,)\n",
      "Testing dataset shape: (1197, 8), (1197,)\n"
     ]
    }
   ],
   "source": [
    "cols = ['days_last_order', 'total_orders', 'total_value', 'unique_days_visited',\n",
    "       'total_sessions', 'avg_duration_btw_login', 'avg_session_time',\n",
    "       'avg_page_visits']\n",
    "from sklearn.model_selection import cross_val_score, train_test_split\n",
    "from sklearn.metrics import accuracy_score as acc\n",
    "\n",
    "X_train, X_test, y_train, y_test = train_test_split(df[cols].values, df['label'].values, test_size = 0.25, random_state = 123)\n",
    "\n",
    "y_train = y_train.ravel()\n",
    "y_test = y_test.ravel()\n",
    "\n",
    "print(\"Training dataset shape: {}, {}\".format(X_train.shape, y_train.shape))\n",
    "print(\"Testing dataset shape: {}, {}\".format(X_test.shape, y_test.shape))"
   ]
  },
  {
   "cell_type": "code",
   "execution_count": 61,
   "metadata": {},
   "outputs": [],
   "source": [
    "from sklearn.preprocessing import StandardScaler\n",
    "scaler = StandardScaler()\n",
    "X_train = scaler.fit_transform(X_train)\n",
    "X_test = scaler.fit_transform(X_test)"
   ]
  },
  {
   "cell_type": "code",
   "execution_count": 12,
   "metadata": {},
   "outputs": [
    {
     "data": {
      "text/plain": [
       "array([[ 1.85257769, -0.35920455, -0.21550768, ..., -0.34826837,\n",
       "         1.22861779,  1.53861403],\n",
       "       [ 0.50965265, -0.61661894, -0.21223535, ...,  0.04973726,\n",
       "         0.24950977, -0.81951837],\n",
       "       [-0.7111883 ,  1.27108661, -0.00829815, ..., -0.7106317 ,\n",
       "         2.39753455,  1.14545401],\n",
       "       ...,\n",
       "       [ 0.26548446,  0.15562424,  0.23807637, ..., -0.44331449,\n",
       "         0.74857665,  0.54040144],\n",
       "       [ 1.73049359,  0.75625782, -0.14858507, ...,  1.87937508,\n",
       "        -0.03291488, -0.17556365],\n",
       "       [-1.32160877, -0.70242374, -0.25241866, ..., -0.18193766,\n",
       "        -0.57308455, -0.60928122]])"
      ]
     },
     "execution_count": 12,
     "metadata": {},
     "output_type": "execute_result"
    }
   ],
   "source": [
    "X_train"
   ]
  },
  {
   "cell_type": "code",
   "execution_count": 48,
   "metadata": {},
   "outputs": [
    {
     "name": "stdout",
     "output_type": "stream",
     "text": [
      "Training accuracy on all features: 0.843\n",
      "Testing accuracy on all features: 0.763\n",
      "Cross validation\n",
      "[0.76826722 0.76617954 0.77557411 0.75757576 0.76907001]\n",
      "0.7673333289703601\n"
     ]
    }
   ],
   "source": [
    "clf = tree.DecisionTreeClassifier(max_depth=8)\n",
    "clf = clf.fit(X_train,y_train)\n",
    "\n",
    "predict(X_train, y_train, X_test, y_test)\n",
    "print(\"Cross validation\")\n",
    "cross_val_res(clf, X, y, 5)"
   ]
  },
  {
   "cell_type": "code",
   "execution_count": 53,
   "metadata": {},
   "outputs": [
    {
     "name": "stdout",
     "output_type": "stream",
     "text": [
      "Training accuracy on all features: 0.489\n",
      "Testing accuracy on all features: 0.312\n",
      "Cross validation\n",
      "[0.77453027 0.76200418 0.78079332 0.75966562 0.76907001]\n",
      "0.7692126796726898\n"
     ]
    }
   ],
   "source": [
    "clf = tree.DecisionTreeClassifier(max_depth=8)\n",
    "clf = clf.fit(X_train_sm,y_train_sm)\n",
    "\n",
    "predict(X_train, y_train, X_test, y_test)\n",
    "print(\"Cross validation\")\n",
    "cross_val_res(clf, X, y, 5)"
   ]
  },
  {
   "cell_type": "markdown",
   "metadata": {},
   "source": [
    "## Ensemble learning: using a random forest"
   ]
  },
  {
   "cell_type": "code",
   "execution_count": 54,
   "metadata": {},
   "outputs": [
    {
     "name": "stdout",
     "output_type": "stream",
     "text": [
      "Training accuracy on all features: 0.822\n",
      "Testing accuracy on all features: 0.527\n",
      "Cross validation\n",
      "[0.80375783 0.79853862 0.80271399 0.79728318 0.8014629 ]\n",
      "0.8007513039836127\n"
     ]
    }
   ],
   "source": [
    "from sklearn.ensemble import RandomForestClassifier\n",
    "\n",
    "clf = RandomForestClassifier(n_estimators=100, max_depth=8)\n",
    "clf = clf.fit(X_train, y_train)\n",
    "\n",
    "predict(X_train, y_train, X_test, y_test)\n",
    "print(\"Cross validation\")\n",
    "cross_val_res(clf, X, y, 5)"
   ]
  },
  {
   "cell_type": "code",
   "execution_count": 101,
   "metadata": {},
   "outputs": [
    {
     "name": "stdout",
     "output_type": "stream",
     "text": [
      "Training accuracy on all features: 0.774\n",
      "Training accuracy on all features: 0.759\n",
      "Cross validation\n",
      "[0.7503268  0.75686275 0.74379085 0.7620915  0.7604712 ]\n",
      "0.7547086199226636\n"
     ]
    }
   ],
   "source": [
    "%%time\n",
    "!!!!!!!!!!!!!!!!!!!!!!!!!!! takes so much time\n",
    "from sklearn import svm\n",
    "# Build an SVC model\n",
    "clf = svm.SVC(kernel='linear', C=1).fit(X_train, y_train)\n",
    "\n",
    "predict(X_train, y_train, X_test, y_test)\n",
    "print(\"Cross validation\")\n",
    "cross_val_res(clf, X, y, 5)"
   ]
  },
  {
   "cell_type": "code",
   "execution_count": 62,
   "metadata": {},
   "outputs": [
    {
     "name": "stdout",
     "output_type": "stream",
     "text": [
      "depth=1, eta=0.01, epochs=0, acc=79.03091060985797\n",
      "depth=1, eta=0.05, epochs=14, acc=79.11445279866332\n",
      "depth=1, eta=0.05, epochs=16, acc=79.36507936507937\n",
      "depth=2, eta=0.06, epochs=7, acc=79.4486215538847\n",
      "depth=2, eta=0.06, epochs=9, acc=79.53216374269006\n",
      "depth=4, eta=0.03, epochs=11, acc=79.61570593149541\n",
      "depth=4, eta=0.03, epochs=14, acc=79.69924812030075\n",
      "depth=4, eta=0.03, epochs=15, acc=79.9498746867168\n",
      "Done\n",
      "Wall time: 2min 42s\n"
     ]
    }
   ],
   "source": [
    "%%time\n",
    "from sklearn.metrics import accuracy_score\n",
    "import xgboost as xgb\n",
    "\n",
    "train = xgb.DMatrix(X_train, label=y_train)\n",
    "test = xgb.DMatrix(X_test, label=y_test)\n",
    "prev = 0\n",
    "for depth in range(8):\n",
    "    for eta in range(30):\n",
    "        for epoch in range(20):\n",
    "            param = {\n",
    "                'max_depth': depth+1,\n",
    "                'eta': (eta+1)/10,\n",
    "                'objective': 'multi:softmax',\n",
    "                'num_class': 3} \n",
    "            epochs = epoch \n",
    "            model = xgb.train(param, train, epochs)\n",
    "            predictions = model.predict(test)\n",
    "            acc = accuracy_score(y_test, predictions)*100\n",
    "            #if epoch%5 == 0: print('.',end='')\n",
    "            if prev<acc:\n",
    "                prev = acc\n",
    "                #print()\n",
    "                print(\"depth={}, eta={}, epochs={}, acc={}\".format(depth+1,(eta+1)/100,epoch,acc))\n",
    "print('Done')"
   ]
  },
  {
   "cell_type": "code",
   "execution_count": 120,
   "metadata": {},
   "outputs": [],
   "source": [
    "import tensorflow as tf\n",
    "# Training parameters.\n",
    "learning_rate = 0.001\n",
    "training_steps = 3000\n",
    "batch_size = 500\n",
    "display_step = 100\n",
    "num_features = 8\n",
    "num_classes = 2\n"
   ]
  },
  {
   "cell_type": "code",
   "execution_count": 32,
   "metadata": {},
   "outputs": [],
   "source": [
    "from tensorflow import keras\n",
    "from tensorflow.keras.datasets import mnist\n",
    "from tensorflow.keras.models import Sequential\n",
    "from tensorflow.keras.layers import Dense, Dropout\n",
    "from tensorflow.keras.optimizers import RMSprop\n"
   ]
  },
  {
   "cell_type": "code",
   "execution_count": 33,
   "metadata": {},
   "outputs": [],
   "source": [
    "\n",
    "train_images = X_train_sm.astype('float32')\n",
    "test_images = X_test.astype('float32')\n",
    "train_labels = keras.utils.to_categorical(y_train_sm, 2)\n",
    "test_labels = keras.utils.to_categorical(y_test, 2)"
   ]
  },
  {
   "cell_type": "code",
   "execution_count": 34,
   "metadata": {},
   "outputs": [],
   "source": [
    "model = Sequential()\n",
    "model.add(Dense(128, activation='relu', input_shape=(8,)))\n",
    "model.add(Dropout(0.2))\n",
    "model.add(Dense(64, activation='relu'))\n",
    "model.add(Dropout(0.2))\n",
    "model.add(Dense(32, activation='relu'))\n",
    "model.add(Dropout(0.5))\n",
    "model.add(Dense(16, activation='relu'))\n",
    "model.add(Dropout(0.2))\n",
    "model.add(Dense(2, activation='softmax'))"
   ]
  },
  {
   "cell_type": "code",
   "execution_count": 35,
   "metadata": {},
   "outputs": [],
   "source": [
    "model.compile(loss='categorical_crossentropy',\n",
    "              optimizer=RMSprop(),\n",
    "              metrics=['accuracy'])"
   ]
  },
  {
   "cell_type": "code",
   "execution_count": 36,
   "metadata": {},
   "outputs": [
    {
     "name": "stdout",
     "output_type": "stream",
     "text": [
      "Epoch 1/100\n",
      "58/58 - 1s - loss: 0.6777 - accuracy: 0.5684 - val_loss: 0.6183 - val_accuracy: 0.6483\n",
      "Epoch 2/100\n",
      "58/58 - 0s - loss: 0.6554 - accuracy: 0.6060 - val_loss: 0.6459 - val_accuracy: 0.5890\n",
      "Epoch 3/100\n",
      "58/58 - 0s - loss: 0.6489 - accuracy: 0.6237 - val_loss: 0.6271 - val_accuracy: 0.6115\n",
      "Epoch 4/100\n",
      "58/58 - 0s - loss: 0.6516 - accuracy: 0.6198 - val_loss: 0.6450 - val_accuracy: 0.5898\n",
      "Epoch 5/100\n",
      "58/58 - 0s - loss: 0.6388 - accuracy: 0.6363 - val_loss: 0.6165 - val_accuracy: 0.6124\n",
      "Epoch 6/100\n",
      "58/58 - 0s - loss: 0.6407 - accuracy: 0.6401 - val_loss: 0.6402 - val_accuracy: 0.5890\n",
      "Epoch 7/100\n",
      "58/58 - 0s - loss: 0.6397 - accuracy: 0.6424 - val_loss: 0.6162 - val_accuracy: 0.6157\n",
      "Epoch 8/100\n",
      "58/58 - 0s - loss: 0.6360 - accuracy: 0.6474 - val_loss: 0.6291 - val_accuracy: 0.6132\n",
      "Epoch 9/100\n",
      "58/58 - 0s - loss: 0.6313 - accuracy: 0.6550 - val_loss: 0.6466 - val_accuracy: 0.5764\n",
      "Epoch 10/100\n",
      "58/58 - 0s - loss: 0.6287 - accuracy: 0.6495 - val_loss: 0.6534 - val_accuracy: 0.5890\n",
      "Epoch 11/100\n",
      "58/58 - 0s - loss: 0.6278 - accuracy: 0.6528 - val_loss: 0.6209 - val_accuracy: 0.6232\n",
      "Epoch 12/100\n",
      "58/58 - 0s - loss: 0.6235 - accuracy: 0.6534 - val_loss: 0.6350 - val_accuracy: 0.5948\n",
      "Epoch 13/100\n",
      "58/58 - 0s - loss: 0.6188 - accuracy: 0.6642 - val_loss: 0.6131 - val_accuracy: 0.6316\n",
      "Epoch 14/100\n",
      "58/58 - 0s - loss: 0.6202 - accuracy: 0.6647 - val_loss: 0.6317 - val_accuracy: 0.5865\n",
      "Epoch 15/100\n",
      "58/58 - 0s - loss: 0.6191 - accuracy: 0.6727 - val_loss: 0.6390 - val_accuracy: 0.5898\n",
      "Epoch 16/100\n",
      "58/58 - 0s - loss: 0.6090 - accuracy: 0.6704 - val_loss: 0.6226 - val_accuracy: 0.6099\n",
      "Epoch 17/100\n",
      "58/58 - 0s - loss: 0.6174 - accuracy: 0.6680 - val_loss: 0.6471 - val_accuracy: 0.5915\n",
      "Epoch 18/100\n",
      "58/58 - 0s - loss: 0.6160 - accuracy: 0.6687 - val_loss: 0.6425 - val_accuracy: 0.5982\n",
      "Epoch 19/100\n",
      "58/58 - 0s - loss: 0.6058 - accuracy: 0.6786 - val_loss: 0.6615 - val_accuracy: 0.5798\n",
      "Epoch 20/100\n",
      "58/58 - 0s - loss: 0.6074 - accuracy: 0.6739 - val_loss: 0.6462 - val_accuracy: 0.5831\n",
      "Epoch 21/100\n",
      "58/58 - 0s - loss: 0.6058 - accuracy: 0.6730 - val_loss: 0.6132 - val_accuracy: 0.6190\n",
      "Epoch 22/100\n",
      "58/58 - 0s - loss: 0.6018 - accuracy: 0.6754 - val_loss: 0.6575 - val_accuracy: 0.5689\n",
      "Epoch 23/100\n",
      "58/58 - 0s - loss: 0.6026 - accuracy: 0.6801 - val_loss: 0.6496 - val_accuracy: 0.5789\n",
      "Epoch 24/100\n",
      "58/58 - 0s - loss: 0.6025 - accuracy: 0.6810 - val_loss: 0.6394 - val_accuracy: 0.5973\n",
      "Epoch 25/100\n",
      "58/58 - 0s - loss: 0.5968 - accuracy: 0.6846 - val_loss: 0.6355 - val_accuracy: 0.6107\n",
      "Epoch 26/100\n",
      "58/58 - 0s - loss: 0.5971 - accuracy: 0.6829 - val_loss: 0.6427 - val_accuracy: 0.5873\n",
      "Epoch 27/100\n",
      "58/58 - 0s - loss: 0.5979 - accuracy: 0.6857 - val_loss: 0.6367 - val_accuracy: 0.5982\n",
      "Epoch 28/100\n",
      "58/58 - 0s - loss: 0.5921 - accuracy: 0.6896 - val_loss: 0.6075 - val_accuracy: 0.6224\n",
      "Epoch 29/100\n",
      "58/58 - 0s - loss: 0.5940 - accuracy: 0.6874 - val_loss: 0.6360 - val_accuracy: 0.5915\n",
      "Epoch 30/100\n",
      "58/58 - 0s - loss: 0.5892 - accuracy: 0.6858 - val_loss: 0.6222 - val_accuracy: 0.6124\n",
      "Epoch 31/100\n",
      "58/58 - 0s - loss: 0.5848 - accuracy: 0.6922 - val_loss: 0.6680 - val_accuracy: 0.5806\n",
      "Epoch 32/100\n",
      "58/58 - 0s - loss: 0.5901 - accuracy: 0.6909 - val_loss: 0.6183 - val_accuracy: 0.6115\n",
      "Epoch 33/100\n",
      "58/58 - 0s - loss: 0.5881 - accuracy: 0.6883 - val_loss: 0.6529 - val_accuracy: 0.5865\n",
      "Epoch 34/100\n",
      "58/58 - 0s - loss: 0.5847 - accuracy: 0.6948 - val_loss: 0.6512 - val_accuracy: 0.5915\n",
      "Epoch 35/100\n",
      "58/58 - 0s - loss: 0.5826 - accuracy: 0.6976 - val_loss: 0.6340 - val_accuracy: 0.6124\n",
      "Epoch 36/100\n",
      "58/58 - 0s - loss: 0.5846 - accuracy: 0.6993 - val_loss: 0.6419 - val_accuracy: 0.5898\n",
      "Epoch 37/100\n",
      "58/58 - 0s - loss: 0.5850 - accuracy: 0.6964 - val_loss: 0.6213 - val_accuracy: 0.6140\n",
      "Epoch 38/100\n",
      "58/58 - 0s - loss: 0.5831 - accuracy: 0.7011 - val_loss: 0.6395 - val_accuracy: 0.6048\n",
      "Epoch 39/100\n",
      "58/58 - 0s - loss: 0.5786 - accuracy: 0.7052 - val_loss: 0.6301 - val_accuracy: 0.6015\n",
      "Epoch 40/100\n",
      "58/58 - 0s - loss: 0.5749 - accuracy: 0.7012 - val_loss: 0.6040 - val_accuracy: 0.6224\n",
      "Epoch 41/100\n",
      "58/58 - 0s - loss: 0.5767 - accuracy: 0.7071 - val_loss: 0.6498 - val_accuracy: 0.5840\n",
      "Epoch 42/100\n",
      "58/58 - 0s - loss: 0.5675 - accuracy: 0.7111 - val_loss: 0.6461 - val_accuracy: 0.5957\n",
      "Epoch 43/100\n",
      "58/58 - 0s - loss: 0.5736 - accuracy: 0.7092 - val_loss: 0.6772 - val_accuracy: 0.5606\n",
      "Epoch 44/100\n",
      "58/58 - 0s - loss: 0.5781 - accuracy: 0.7057 - val_loss: 0.6502 - val_accuracy: 0.5798\n",
      "Epoch 45/100\n",
      "58/58 - 0s - loss: 0.5732 - accuracy: 0.7070 - val_loss: 0.6531 - val_accuracy: 0.5681\n",
      "Epoch 46/100\n",
      "58/58 - 0s - loss: 0.5698 - accuracy: 0.7096 - val_loss: 0.6775 - val_accuracy: 0.5556\n",
      "Epoch 47/100\n",
      "58/58 - 0s - loss: 0.5741 - accuracy: 0.7127 - val_loss: 0.6384 - val_accuracy: 0.5940\n",
      "Epoch 48/100\n",
      "58/58 - 0s - loss: 0.5725 - accuracy: 0.7073 - val_loss: 0.6440 - val_accuracy: 0.5865\n",
      "Epoch 49/100\n",
      "58/58 - 0s - loss: 0.5604 - accuracy: 0.7151 - val_loss: 0.6505 - val_accuracy: 0.5840\n",
      "Epoch 50/100\n",
      "58/58 - 0s - loss: 0.5643 - accuracy: 0.7146 - val_loss: 0.6481 - val_accuracy: 0.5982\n",
      "Epoch 51/100\n",
      "58/58 - 0s - loss: 0.5621 - accuracy: 0.7144 - val_loss: 0.6362 - val_accuracy: 0.6124\n",
      "Epoch 52/100\n",
      "58/58 - 0s - loss: 0.5633 - accuracy: 0.7186 - val_loss: 0.6325 - val_accuracy: 0.6074\n",
      "Epoch 53/100\n",
      "58/58 - 0s - loss: 0.5551 - accuracy: 0.7205 - val_loss: 0.6550 - val_accuracy: 0.5998\n",
      "Epoch 54/100\n",
      "58/58 - 0s - loss: 0.5581 - accuracy: 0.7170 - val_loss: 0.6414 - val_accuracy: 0.5990\n",
      "Epoch 55/100\n",
      "58/58 - 0s - loss: 0.5539 - accuracy: 0.7251 - val_loss: 0.6751 - val_accuracy: 0.5764\n",
      "Epoch 56/100\n",
      "58/58 - 0s - loss: 0.5544 - accuracy: 0.7293 - val_loss: 0.6354 - val_accuracy: 0.6023\n",
      "Epoch 57/100\n",
      "58/58 - 0s - loss: 0.5552 - accuracy: 0.7227 - val_loss: 0.6608 - val_accuracy: 0.5698\n",
      "Epoch 58/100\n",
      "58/58 - 0s - loss: 0.5540 - accuracy: 0.7239 - val_loss: 0.6784 - val_accuracy: 0.5815\n",
      "Epoch 59/100\n",
      "58/58 - 0s - loss: 0.5507 - accuracy: 0.7238 - val_loss: 0.6745 - val_accuracy: 0.5714\n",
      "Epoch 60/100\n",
      "58/58 - 0s - loss: 0.5509 - accuracy: 0.7277 - val_loss: 0.6511 - val_accuracy: 0.6040\n",
      "Epoch 61/100\n",
      "58/58 - 0s - loss: 0.5560 - accuracy: 0.7177 - val_loss: 0.6565 - val_accuracy: 0.5873\n",
      "Epoch 62/100\n",
      "58/58 - 0s - loss: 0.5479 - accuracy: 0.7343 - val_loss: 0.6445 - val_accuracy: 0.6115\n",
      "Epoch 63/100\n",
      "58/58 - 0s - loss: 0.5441 - accuracy: 0.7326 - val_loss: 0.6481 - val_accuracy: 0.6023\n",
      "Epoch 64/100\n",
      "58/58 - 0s - loss: 0.5465 - accuracy: 0.7319 - val_loss: 0.6559 - val_accuracy: 0.6065\n",
      "Epoch 65/100\n",
      "58/58 - 0s - loss: 0.5447 - accuracy: 0.7286 - val_loss: 0.6382 - val_accuracy: 0.6174\n",
      "Epoch 66/100\n",
      "58/58 - 0s - loss: 0.5413 - accuracy: 0.7350 - val_loss: 0.6473 - val_accuracy: 0.5990\n",
      "Epoch 67/100\n",
      "58/58 - 0s - loss: 0.5394 - accuracy: 0.7414 - val_loss: 0.6321 - val_accuracy: 0.6199\n",
      "Epoch 68/100\n",
      "58/58 - 0s - loss: 0.5399 - accuracy: 0.7312 - val_loss: 0.6853 - val_accuracy: 0.5731\n",
      "Epoch 69/100\n",
      "58/58 - 0s - loss: 0.5359 - accuracy: 0.7368 - val_loss: 0.6574 - val_accuracy: 0.6032\n",
      "Epoch 70/100\n",
      "58/58 - 0s - loss: 0.5356 - accuracy: 0.7368 - val_loss: 0.6691 - val_accuracy: 0.5898\n",
      "Epoch 71/100\n",
      "58/58 - 0s - loss: 0.5388 - accuracy: 0.7361 - val_loss: 0.6820 - val_accuracy: 0.5681\n",
      "Epoch 72/100\n",
      "58/58 - 0s - loss: 0.5317 - accuracy: 0.7435 - val_loss: 0.6918 - val_accuracy: 0.5656\n",
      "Epoch 73/100\n",
      "58/58 - 0s - loss: 0.5331 - accuracy: 0.7413 - val_loss: 0.6637 - val_accuracy: 0.5957\n",
      "Epoch 74/100\n",
      "58/58 - 0s - loss: 0.5273 - accuracy: 0.7470 - val_loss: 0.6690 - val_accuracy: 0.6048\n",
      "Epoch 75/100\n",
      "58/58 - 0s - loss: 0.5307 - accuracy: 0.7440 - val_loss: 0.6577 - val_accuracy: 0.6007\n",
      "Epoch 76/100\n",
      "58/58 - 0s - loss: 0.5244 - accuracy: 0.7463 - val_loss: 0.6977 - val_accuracy: 0.5706\n",
      "Epoch 77/100\n",
      "58/58 - 0s - loss: 0.5323 - accuracy: 0.7385 - val_loss: 0.6556 - val_accuracy: 0.5982\n",
      "Epoch 78/100\n",
      "58/58 - 0s - loss: 0.5248 - accuracy: 0.7430 - val_loss: 0.6611 - val_accuracy: 0.6057\n",
      "Epoch 79/100\n",
      "58/58 - 0s - loss: 0.5275 - accuracy: 0.7447 - val_loss: 0.6582 - val_accuracy: 0.6074\n",
      "Epoch 80/100\n",
      "58/58 - 0s - loss: 0.5211 - accuracy: 0.7459 - val_loss: 0.6875 - val_accuracy: 0.5781\n",
      "Epoch 81/100\n",
      "58/58 - 0s - loss: 0.5239 - accuracy: 0.7525 - val_loss: 0.6546 - val_accuracy: 0.6115\n",
      "Epoch 82/100\n",
      "58/58 - 0s - loss: 0.5292 - accuracy: 0.7445 - val_loss: 0.6583 - val_accuracy: 0.6065\n",
      "Epoch 83/100\n",
      "58/58 - 0s - loss: 0.5193 - accuracy: 0.7470 - val_loss: 0.6688 - val_accuracy: 0.6057\n",
      "Epoch 84/100\n",
      "58/58 - 0s - loss: 0.5208 - accuracy: 0.7506 - val_loss: 0.6515 - val_accuracy: 0.6232\n",
      "Epoch 85/100\n",
      "58/58 - 0s - loss: 0.5195 - accuracy: 0.7560 - val_loss: 0.6815 - val_accuracy: 0.6007\n",
      "Epoch 86/100\n",
      "58/58 - 0s - loss: 0.5169 - accuracy: 0.7497 - val_loss: 0.6781 - val_accuracy: 0.5973\n",
      "Epoch 87/100\n",
      "58/58 - 0s - loss: 0.5299 - accuracy: 0.7442 - val_loss: 0.6651 - val_accuracy: 0.6074\n",
      "Epoch 88/100\n",
      "58/58 - 0s - loss: 0.5099 - accuracy: 0.7586 - val_loss: 0.6871 - val_accuracy: 0.5856\n",
      "Epoch 89/100\n",
      "58/58 - 0s - loss: 0.5115 - accuracy: 0.7560 - val_loss: 0.6609 - val_accuracy: 0.6274\n",
      "Epoch 90/100\n",
      "58/58 - 0s - loss: 0.5121 - accuracy: 0.7551 - val_loss: 0.6648 - val_accuracy: 0.6048\n",
      "Epoch 91/100\n",
      "58/58 - 0s - loss: 0.5163 - accuracy: 0.7582 - val_loss: 0.6666 - val_accuracy: 0.6007\n",
      "Epoch 92/100\n",
      "58/58 - 0s - loss: 0.5106 - accuracy: 0.7572 - val_loss: 0.6583 - val_accuracy: 0.6316\n",
      "Epoch 93/100\n",
      "58/58 - 0s - loss: 0.5144 - accuracy: 0.7530 - val_loss: 0.6645 - val_accuracy: 0.6132\n",
      "Epoch 94/100\n",
      "58/58 - 0s - loss: 0.5108 - accuracy: 0.7586 - val_loss: 0.6837 - val_accuracy: 0.5881\n",
      "Epoch 95/100\n",
      "58/58 - 0s - loss: 0.5073 - accuracy: 0.7624 - val_loss: 0.6560 - val_accuracy: 0.6140\n",
      "Epoch 96/100\n",
      "58/58 - 0s - loss: 0.5044 - accuracy: 0.7589 - val_loss: 0.6660 - val_accuracy: 0.6140\n",
      "Epoch 97/100\n",
      "58/58 - 0s - loss: 0.5046 - accuracy: 0.7563 - val_loss: 0.6700 - val_accuracy: 0.6057\n",
      "Epoch 98/100\n",
      "58/58 - 0s - loss: 0.4969 - accuracy: 0.7691 - val_loss: 0.6536 - val_accuracy: 0.6358\n",
      "Epoch 99/100\n",
      "58/58 - 0s - loss: 0.5003 - accuracy: 0.7615 - val_loss: 0.6953 - val_accuracy: 0.5940\n",
      "Epoch 100/100\n",
      "58/58 - 0s - loss: 0.4981 - accuracy: 0.7664 - val_loss: 0.6991 - val_accuracy: 0.5940\n"
     ]
    }
   ],
   "source": [
    "history = model.fit(train_images, train_labels,\n",
    "                    batch_size=100,\n",
    "                    epochs=100,\n",
    "                    verbose=2,\n",
    "                    validation_data=(test_images, test_labels))"
   ]
  },
  {
   "cell_type": "code",
   "execution_count": 42,
   "metadata": {},
   "outputs": [
    {
     "name": "stdout",
     "output_type": "stream",
     "text": [
      "Test loss: 0.4950062930583954\n",
      "Test accuracy: 0.7928153872489929\n"
     ]
    }
   ],
   "source": [
    "score = model.evaluate(test_images, test_labels, verbose=0)\n",
    "print('Test loss:', score[0])\n",
    "print('Test accuracy:', score[1])"
   ]
  },
  {
   "cell_type": "code",
   "execution_count": 51,
   "metadata": {},
   "outputs": [
    {
     "name": "stdout",
     "output_type": "stream",
     "text": [
      "Before OverSampling, counts of label '1': 704\n",
      "Before OverSampling, counts of label '0': 2887 \n",
      "\n",
      "After OverSampling, the shape of train_X: (5774, 8)\n",
      "After OverSampling, the shape of train_y: (5774,) \n",
      "\n",
      "After OverSampling, counts of label '1': 2887\n",
      "After OverSampling, counts of label '0': 2887\n"
     ]
    }
   ],
   "source": [
    "print(\"Before OverSampling, counts of label '1': {}\".format(sum(y_train == 1)))\n",
    "print(\"Before OverSampling, counts of label '0': {} \\n\".format(sum(y_train == 0)))\n",
    "\n",
    "from imblearn.over_sampling import SMOTE\n",
    "sm = SMOTE(random_state = 2)\n",
    "X_train, y_train = sm.fit_resample(X_train, y_train.ravel())\n",
    "\n",
    "print('After OverSampling, the shape of train_X: {}'.format(X_train_sm.shape))\n",
    "print('After OverSampling, the shape of train_y: {} \\n'.format(y_train_sm.shape))\n",
    "  \n",
    "print(\"After OverSampling, counts of label '1': {}\".format(sum(y_train_sm == 1)))\n",
    "print(\"After OverSampling, counts of label '0': {}\".format(sum(y_train_sm == 0)))"
   ]
  }
 ],
 "metadata": {
  "interpreter": {
   "hash": "bfe903405850b67b66c9b68efeec3cc7493b96aba9e6a9e21761fd8e72a4c12c"
  },
  "kernelspec": {
   "display_name": "Python 3.8.5 64-bit ('base': conda)",
   "name": "python3"
  },
  "language_info": {
   "codemirror_mode": {
    "name": "ipython",
    "version": 3
   },
   "file_extension": ".py",
   "mimetype": "text/x-python",
   "name": "python",
   "nbconvert_exporter": "python",
   "pygments_lexer": "ipython3",
   "version": "3.8.5"
  }
 },
 "nbformat": 4,
 "nbformat_minor": 4
}
